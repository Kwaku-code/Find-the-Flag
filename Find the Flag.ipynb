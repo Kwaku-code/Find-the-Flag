{
 "cells": [
  {
   "cell_type": "code",
   "execution_count": null,
   "metadata": {},
   "outputs": [],
   "source": [
    "import codecademylib3_seaborn\n",
    "import pandas as pd\n",
    "from sklearn.model_selection import train_test_split\n",
    "from sklearn.tree import DecisionTreeClassifier\n",
    "import matplotlib.pyplot as plt\n",
    "\n",
    "flags = pd.read_csv(\"flags.csv\", header = 0)\n",
    "\n",
    "print(flags.columns)\n",
    "print(flags.head())\n",
    "\n",
    "labels = flags[[\"Landmass\"]]\n",
    "\n",
    "data = flags[[\"Red\", \"Green\", \"Blue\", \"Gold\",\n",
    " \"White\", \"Black\", \"Orange\",\n",
    " \"Circles\",\n",
    "\"Crosses\",\"Saltires\",\"Quarters\",\"Sunstars\",\n",
    "\"Crescent\",\"Triangle\"]]\n",
    "\n",
    "train_data, test_data, train_labels, test_labels = train_test_split(data, labels, random_state = 1)\n",
    "\n",
    "scores = []\n",
    "\n",
    "for i in range(1, 21):\n",
    "  tree = DecisionTreeClassifier(random_state = 1, max_depth = i)\n",
    "\n",
    "  tree.fit(train_data, train_labels)\n",
    "\n",
    "  scores.append(tree.score(test_data, test_labels))\n",
    "\n",
    "plt.plot(range(1, 21), scores)\n",
    "\n",
    "plt.show()\n",
    "\n",
    "\n",
    "\n",
    "\n",
    "\n",
    "\n",
    "\n",
    "\n"
   ]
  }
 ],
 "metadata": {
  "kernelspec": {
   "display_name": "Python 3",
   "language": "python",
   "name": "python3"
  },
  "language_info": {
   "codemirror_mode": {
    "name": "ipython",
    "version": 3
   },
   "file_extension": ".py",
   "mimetype": "text/x-python",
   "name": "python",
   "nbconvert_exporter": "python",
   "pygments_lexer": "ipython3",
   "version": "3.7.3"
  }
 },
 "nbformat": 4,
 "nbformat_minor": 2
}
